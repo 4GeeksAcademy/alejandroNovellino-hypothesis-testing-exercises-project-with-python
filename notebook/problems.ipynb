{
 "cells": [
  {
   "cell_type": "markdown",
   "id": "d9d036c6",
   "metadata": {},
   "source": [
    "# Hypothesis testing problems"
   ]
  },
  {
   "cell_type": "code",
   "execution_count": 85,
   "id": "0a744909",
   "metadata": {},
   "outputs": [],
   "source": [
    "# import the packages\n",
    "import numpy as np\n",
    "import numpy.typing as npt\n",
    "import scipy.stats as stats # type: ignore\n",
    "import matplotlib.pyplot as plt\n",
    "\n",
    "from scipy.stats._stats_py import TtestResult, ConfidenceInterval, F_onewayResult # type: ignore"
   ]
  },
  {
   "cell_type": "markdown",
   "id": "d157c4db",
   "metadata": {},
   "source": [
    "## Exercise 1\n",
    "\n",
    "You are a nutritionist researching two different types of diets to see if there is a significant difference in weight loss after one month. You choose two random groups of people; one group follows the first diet, and the other follows the second. At the end of the month, you record the weight loss (in kg) for each person:\n",
    "\n",
    "| Diet 1 | Diet 2 |\n",
    "|:-------|:-------|\n",
    "| 2.0 | 3.0 |\n",
    "| 2.5 | 3.2 |\n",
    "| 3.0 | 3.1 |\n",
    "| 2.8 | 2.9 |\n",
    "| 2.3 | 2.8 |\n",
    "| 2.7 | 3.0 |\n",
    "| 2.5 | 3.2 |\n",
    "\n",
    "With these data, it seeks to answer the following question: Is there a significant difference in average weight loss between people who followed the first diet and those who followed the second diet?\n",
    "\n",
    "To draw conclusions, follow the points below:\n",
    "\n",
    "- State the hypothesis: null and alternative hypothesis.\n",
    "- Perform the test to test the hypothesis. You can use a Student's t-test.\n",
    "- Analyze the conclusions."
   ]
  },
  {
   "cell_type": "markdown",
   "id": "f3d80638",
   "metadata": {},
   "source": [
    "### Solution"
   ]
  },
  {
   "cell_type": "markdown",
   "id": "334e440e",
   "metadata": {},
   "source": [
    "**Null Hypothesis H0**: There is no difference (mean 1 = mean 2)\n",
    "\n",
    "**Alternative Hypothesis H1**: There is difference (mean 1 != mean 2)\n",
    "\n",
    "This is a bilateral test and we are going to work with significance of 0.05"
   ]
  },
  {
   "cell_type": "code",
   "execution_count": 86,
   "id": "3f387883",
   "metadata": {},
   "outputs": [],
   "source": [
    "# define the diets\n",
    "diet_1: npt.NDArray[np.float64] = np.array([2.0, 2.5, 3.0, 2.8, 2.3, 2.7, 2.5])\n",
    "diet_2: npt.NDArray[np.float64] = np.array([3.0, 3.2, 3.1, 2.9, 2.8, 3.0, 3.2])"
   ]
  },
  {
   "cell_type": "code",
   "execution_count": 87,
   "id": "8e0f3cf0",
   "metadata": {},
   "outputs": [
    {
     "name": "stdout",
     "output_type": "stream",
     "text": [
      "Value of the t-statistic.: -3.5383407969933938\n",
      "Value of p: 0.004083270191713912\n",
      "Number of degrees of freedom used in the calculation:  12.0\n",
      "Confidence interval: (0.21519623195989346, 0.8133751966115359)\n"
     ]
    }
   ],
   "source": [
    "# calculate the t statistics and the value of p\n",
    "t_student_result: TtestResult = stats.ttest_ind(a=diet_1, b=diet_2) # type: ignore\n",
    "\n",
    "# get the values\n",
    "t_statistic: float = t_student_result.statistic # type: ignore\n",
    "p_value: float = t_student_result.pvalue  # type: ignore\n",
    "degrees_freedom: float = t_student_result.df # type: ignore\n",
    "confidence_interval: ConfidenceInterval = t_student_result.confidence_interval() # type: ignore\n",
    "\n",
    "# print the values\n",
    "print(f'Value of the t-statistic.: {t_statistic}')\n",
    "print(f'Value of p: {p_value}')\n",
    "print(f'Number of degrees of freedom used in the calculation:  {degrees_freedom}')\n",
    "print(f'Confidence interval: ({confidence_interval.low + 1}, {confidence_interval.high + 1})') # type: ignore"
   ]
  },
  {
   "cell_type": "markdown",
   "id": "105b7987",
   "metadata": {},
   "source": [
    "#### Conclusion:\n",
    "\n",
    "Because the value of p is smaller than 0.05 (the value of significance selected) we have to reject the null Hypothesis. \n",
    "\n",
    "Therefore it seems that there is a difference between the average of one group and the other, that is, the average weight loss between the two groups is different."
   ]
  },
  {
   "cell_type": "markdown",
   "id": "f432e18e",
   "metadata": {},
   "source": [
    "## ANOVA\n",
    "\n",
    "**ANOVA** (*Analysis of Variance*) is a statistical technique used to compare the measures of two or more groups. The idea behind ANOVA is to decompose the total variability in the data into two components: between-group variability and within-group variability:\n",
    "\n",
    "- **Between-group variability**: This variability refers to the differences between the group means. If this variability is considerably larger than the within-group variability, it could be an indication that at least one of the group means is different.\n",
    "- **Within-group variability**: This variability refers to the dispersion of the data within each group. If all groups have similar variability, then any noticeable difference in group means could be considered significant.\n",
    "\n",
    "Hypotheses in ANOVA typically include:\n",
    "\n",
    "- **Null hypothesis** ($H₀$): The means of all groups are equal.\n",
    "- **Alternative hypothesis** ($H₁$): At least one of the group means is different.\n",
    "\n",
    "If the ANOVA test result is significant (e.g., a p-value less than a threshold such as 0.05), this suggests that at least one group mean is different."
   ]
  },
  {
   "cell_type": "markdown",
   "id": "fc5f3721",
   "metadata": {},
   "source": [
    "## Exercise 2\n",
    "\n",
    "A farmer decides to test three different types of fertilizers to determine if one is superior in terms of corn production. The farmer plants corn on 15 identical plots and uses all three fertilizers (5 plots for each type). At the end of the season, he measures the corn yield (in kg) of each plot, with the following result:\n",
    "\n",
    "| Fertilizer 1 | Fertilizer 2 | Fertilizer 3 |\n",
    "|:-------------|:-------------|:-------------|\n",
    "| 20 | 22 | 24 |\n",
    "| 21 | 21 | 23 |\n",
    "| 20 | 23 | 22 |\n",
    "| 19 | 22 | 23 |\n",
    "| 20 | 21 | 24 |\n",
    "\n",
    "With this data, he seeks to answer the following question: Is there a significant difference in average corn yield between the three types of fertilizers?\n",
    "\n",
    "To help you, follow the points below:\n",
    "\n",
    "- State the hypothesis: null and alternative hypothesis.\n",
    "- Perform the ANOVA test.\n",
    "- Analyze the conclusions.\n",
    "- If one fertilizer is better than another, how can we know it?"
   ]
  },
  {
   "cell_type": "markdown",
   "id": "6aeb2e1e",
   "metadata": {},
   "source": [
    "### Solution"
   ]
  },
  {
   "cell_type": "markdown",
   "id": "fb697af3",
   "metadata": {},
   "source": [
    "**Null Hypothesis H0**: There is no difference in the amount (Kg) of corn produced (mean 1 = mean 2 = mean 3)\n",
    "\n",
    "**Alternative Hypothesis H1**: There is difference in the amount (Kg) of corn produced (at least one of the means is different)"
   ]
  },
  {
   "cell_type": "code",
   "execution_count": 88,
   "id": "c00e2578",
   "metadata": {},
   "outputs": [],
   "source": [
    "# define the fertilizers\n",
    "fertilizer_1: npt.NDArray[np.int64] = np.array([20, 21, 20, 19, 20])\n",
    "fertilizer_2: npt.NDArray[np.int64] = np.array([22, 21, 23, 22, 21])\n",
    "fertilizer_3: npt.NDArray[np.int64] = np.array([24, 23, 22, 23, 24])"
   ]
  },
  {
   "cell_type": "code",
   "execution_count": 89,
   "id": "aaf72cf2",
   "metadata": {},
   "outputs": [
    {
     "name": "stdout",
     "output_type": "stream",
     "text": [
      "F_onewayResult(statistic=np.float64(20.315789473684188), pvalue=np.float64(0.00014047824793190472))\n",
      "Value of the t-statistic.: 20.315789473684188\n",
      "Value of p: 0.00014047824793190472\n"
     ]
    }
   ],
   "source": [
    "# calculate the t statistics and the value of p\n",
    "anova_result: F_onewayResult = stats.f_oneway(fertilizer_1, fertilizer_2, fertilizer_3) # type: ignore\n",
    "print(anova_result)\n",
    "\n",
    "# get the values\n",
    "t_statistic: float = anova_result.statistic # type: ignore\n",
    "p_value: float = anova_result.pvalue  # type: ignore\n",
    "\n",
    "# print the values\n",
    "print(f'Value of the t-statistic.: {t_statistic}')\n",
    "print(f'Value of p: {p_value}')"
   ]
  },
  {
   "cell_type": "markdown",
   "id": "9690c070",
   "metadata": {},
   "source": [
    "#### Conclusion:\n",
    "\n",
    "Because the value of p is smaller than 0.05 (the value of significance selected) we have to reject the null Hypothesis. \n",
    "\n",
    "So it seems that there is one average that is at least different from the others."
   ]
  },
  {
   "cell_type": "markdown",
   "id": "d29e34e5",
   "metadata": {},
   "source": [
    "#### Selecting the best\n",
    "\n",
    "To select the best option of fertilizers we need to use a Post Hoc test. Some of this tests are:\n",
    "\n",
    "- **Tukey HSD (Honest Significant Difference) test**: This is one of the most commonly used post hoc tests and is suitable when sample sizes are equal.\n",
    "- **Bonferroni test**: This is a conservative test that controls for type I error.\n",
    "- **Scheffé test**: This is a very conservative test and is suitable when many comparisons are made.\n",
    "- **Duncan test**: This is a more liberal test than the Tukey test and may be more prone to type I errors.\n",
    "\n",
    "We are going to use the Tukey HSD test."
   ]
  },
  {
   "cell_type": "code",
   "execution_count": 90,
   "id": "1a62c992",
   "metadata": {},
   "outputs": [
    {
     "name": "stdout",
     "output_type": "stream",
     "text": [
      "Tukey's HSD Pairwise Group Comparisons (95.0% Confidence Interval)\n",
      "Comparison  Statistic  p-value  Lower CI  Upper CI\n",
      " (0 - 1)     -1.800     0.010    -3.143    -0.457\n",
      " (0 - 2)     -3.200     0.000    -4.543    -1.857\n",
      " (1 - 0)      1.800     0.010     0.457     3.143\n",
      " (1 - 2)     -1.400     0.041    -2.743    -0.057\n",
      " (2 - 0)      3.200     0.000     1.857     4.543\n",
      " (2 - 1)      1.400     0.041     0.057     2.743\n",
      "\n"
     ]
    }
   ],
   "source": [
    "# doing the Tukey HSD test\n",
    "res = stats.tukey_hsd(fertilizer_1, fertilizer_2, fertilizer_3) # type: ignore\n",
    "print(res)"
   ]
  },
  {
   "cell_type": "markdown",
   "id": "c5a63ef0",
   "metadata": {},
   "source": [
    "No p-value is greater than 0.05, that means that no statistically significant differences were found between the means of the groups compared. So we cannot get a conclusion with the test.\n",
    "\n",
    "To select a Fertilizer we are going to graph the means and select the greater one."
   ]
  },
  {
   "cell_type": "code",
   "execution_count": 91,
   "id": "cd6006b3",
   "metadata": {},
   "outputs": [
    {
     "data": {
      "image/png": "[encoded data removed]",
      "text/plain": [
       "<Figure size 640x480 with 1 Axes>"
      ]
     },
     "metadata": {},
     "output_type": "display_data"
    }
   ],
   "source": [
    "# plot the means\n",
    "fig, ax = plt.subplots(1, 1) # type: ignore\n",
    "\n",
    "ax.boxplot([fertilizer_1, fertilizer_2, fertilizer_3])\n",
    "ax.set_xticklabels([\"Fertilizer 1\", \"Fertilizer 2\", \"Fertilizer 3\"]) # type: ignore\n",
    "ax.set_ylabel(\"mean\") # type: ignore\n",
    "plt.show() # type: ignore"
   ]
  },
  {
   "cell_type": "markdown",
   "id": "c3a749c8",
   "metadata": {},
   "source": [
    "With the graph we can get to the conclusion that the **third fertilizer** is the best, and it is the best option to get the most amount of Kgs of corn."
   ]
  }
 ],
 "metadata": {
  "kernelspec": {
   "display_name": "ds_venv",
   "language": "python",
   "name": "python3"
  },
  "language_info": {
   "codemirror_mode": {
    "name": "ipython",
    "version": 3
   },
   "file_extension": ".py",
   "mimetype": "text/x-python",
   "name": "python",
   "nbconvert_exporter": "python",
   "pygments_lexer": "ipython3",
   "version": "3.12.9"
  }
 },
 "nbformat": 4,
 "nbformat_minor": 5
}
